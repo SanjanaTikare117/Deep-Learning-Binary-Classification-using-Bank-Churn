{
  "metadata": {
    "kernelspec": {
      "language": "python",
      "display_name": "Python 3",
      "name": "python3"
    },
    "language_info": {
      "name": "python",
      "version": "3.10.12",
      "mimetype": "text/x-python",
      "codemirror_mode": {
        "name": "ipython",
        "version": 3
      },
      "pygments_lexer": "ipython3",
      "nbconvert_exporter": "python",
      "file_extension": ".py"
    },
    "kaggle": {
      "accelerator": "none",
      "dataSources": [
        {
          "sourceId": 65711,
          "databundleVersionId": 7405009,
          "sourceType": "competition"
        }
      ],
      "dockerImageVersionId": 30635,
      "isInternetEnabled": false,
      "language": "python",
      "sourceType": "notebook",
      "isGpuEnabled": false
    },
    "colab": {
      "name": "BINARY CLASSIFICATION WITH BANK CHURN",
      "provenance": [],
      "include_colab_link": true
    }
  },
  "nbformat_minor": 0,
  "nbformat": 4,
  "cells": [
    {
      "cell_type": "markdown",
      "metadata": {
        "id": "view-in-github",
        "colab_type": "text"
      },
      "source": [
        "<a href=\"https://colab.research.google.com/github/SanjanaTikare117/Deep-Learning-Binary-Classification-using-Bank-Churn/blob/main/BINARY_CLASSIFICATION_WITH_BANK_CHURN.ipynb\" target=\"_parent\"><img src=\"https://colab.research.google.com/assets/colab-badge.svg\" alt=\"Open In Colab\"/></a>"
      ]
    },
    {
      "source": [
        "\n",
        "# IMPORTANT: RUN THIS CELL IN ORDER TO IMPORT YOUR KAGGLE DATA SOURCES\n",
        "# TO THE CORRECT LOCATION (/kaggle/input) IN YOUR NOTEBOOK,\n",
        "# THEN FEEL FREE TO DELETE THIS CELL.\n",
        "# NOTE: THIS NOTEBOOK ENVIRONMENT DIFFERS FROM KAGGLE'S PYTHON\n",
        "# ENVIRONMENT SO THERE MAY BE MISSING LIBRARIES USED BY YOUR\n",
        "# NOTEBOOK.\n",
        "\n",
        "import os\n",
        "import sys\n",
        "from tempfile import NamedTemporaryFile\n",
        "from urllib.request import urlopen\n",
        "from urllib.parse import unquote, urlparse\n",
        "from urllib.error import HTTPError\n",
        "from zipfile import ZipFile\n",
        "import tarfile\n",
        "import shutil\n",
        "\n",
        "CHUNK_SIZE = 40960\n",
        "DATA_SOURCE_MAPPING = 'playground-series-s4e1:https%3A%2F%2Fstorage.googleapis.com%2Fkaggle-competitions-data%2Fkaggle-v2%2F65711%2F7405009%2Fbundle%2Farchive.zip%3FX-Goog-Algorithm%3DGOOG4-RSA-SHA256%26X-Goog-Credential%3Dgcp-kaggle-com%2540kaggle-161607.iam.gserviceaccount.com%252F20240211%252Fauto%252Fstorage%252Fgoog4_request%26X-Goog-Date%3D20240211T173806Z%26X-Goog-Expires%3D259200%26X-Goog-SignedHeaders%3Dhost%26X-Goog-Signature%3D31f69955a0af2d8ab17708608b46e6ee78682cf8e002693397aec0c05172e1b8afd7f4db437e4d47b545918a9fed10f59682e257d07072ac8eddb0d4164c57ec69b70a45e13b6c10b06ee36688e8c48f67666a4a5da88465aac0454411e2de695a5e8f63adbf1eb214704e57ea63781c0c1a2f1871738924e6836b255d8d75ef4056949f4cab82dd390e99b9963f58c97a1355612dc08ef88c720f06a082bd8edb94e0a3d4934aa4919eca2b768d2889810a001a25d861aa8d3b165da438001fe612e405d4fd4a60629ea0cd391a8b8193eb43f4907fcf7f7809a1abcb790fc85de78115707c602397b3e7d321ab8fcc257c4dd59e5a7bf9e445fbb412e484ee'\n",
        "\n",
        "KAGGLE_INPUT_PATH='/kaggle/input'\n",
        "KAGGLE_WORKING_PATH='/kaggle/working'\n",
        "KAGGLE_SYMLINK='kaggle'\n",
        "\n",
        "!umount /kaggle/input/ 2> /dev/null\n",
        "shutil.rmtree('/kaggle/input', ignore_errors=True)\n",
        "os.makedirs(KAGGLE_INPUT_PATH, 0o777, exist_ok=True)\n",
        "os.makedirs(KAGGLE_WORKING_PATH, 0o777, exist_ok=True)\n",
        "\n",
        "try:\n",
        "  os.symlink(KAGGLE_INPUT_PATH, os.path.join(\"..\", 'input'), target_is_directory=True)\n",
        "except FileExistsError:\n",
        "  pass\n",
        "try:\n",
        "  os.symlink(KAGGLE_WORKING_PATH, os.path.join(\"..\", 'working'), target_is_directory=True)\n",
        "except FileExistsError:\n",
        "  pass\n",
        "\n",
        "for data_source_mapping in DATA_SOURCE_MAPPING.split(','):\n",
        "    directory, download_url_encoded = data_source_mapping.split(':')\n",
        "    download_url = unquote(download_url_encoded)\n",
        "    filename = urlparse(download_url).path\n",
        "    destination_path = os.path.join(KAGGLE_INPUT_PATH, directory)\n",
        "    try:\n",
        "        with urlopen(download_url) as fileres, NamedTemporaryFile() as tfile:\n",
        "            total_length = fileres.headers['content-length']\n",
        "            print(f'Downloading {directory}, {total_length} bytes compressed')\n",
        "            dl = 0\n",
        "            data = fileres.read(CHUNK_SIZE)\n",
        "            while len(data) > 0:\n",
        "                dl += len(data)\n",
        "                tfile.write(data)\n",
        "                done = int(50 * dl / int(total_length))\n",
        "                sys.stdout.write(f\"\\r[{'=' * done}{' ' * (50-done)}] {dl} bytes downloaded\")\n",
        "                sys.stdout.flush()\n",
        "                data = fileres.read(CHUNK_SIZE)\n",
        "            if filename.endswith('.zip'):\n",
        "              with ZipFile(tfile) as zfile:\n",
        "                zfile.extractall(destination_path)\n",
        "            else:\n",
        "              with tarfile.open(tfile.name) as tarfile:\n",
        "                tarfile.extractall(destination_path)\n",
        "            print(f'\\nDownloaded and uncompressed: {directory}')\n",
        "    except HTTPError as e:\n",
        "        print(f'Failed to load (likely expired) {download_url} to path {destination_path}')\n",
        "        continue\n",
        "    except OSError as e:\n",
        "        print(f'Failed to load {download_url} to path {destination_path}')\n",
        "        continue\n",
        "\n",
        "print('Data source import complete.')\n"
      ],
      "metadata": {
        "id": "--vYkyslP3jk"
      },
      "cell_type": "code",
      "outputs": [],
      "execution_count": null
    },
    {
      "cell_type": "code",
      "source": [
        "import numpy as np\n",
        "import matplotlib.pyplot as plt\n",
        "import pandas as pd"
      ],
      "metadata": {
        "_uuid": "8f2839f25d086af736a60e9eeb907d3b93b6e0e5",
        "_cell_guid": "b1076dfc-b9ad-4769-8c92-a6c4dae69d19",
        "execution": {
          "iopub.status.busy": "2024-01-26T16:10:28.366217Z",
          "iopub.execute_input": "2024-01-26T16:10:28.366632Z",
          "iopub.status.idle": "2024-01-26T16:10:28.812507Z",
          "shell.execute_reply.started": "2024-01-26T16:10:28.3666Z",
          "shell.execute_reply": "2024-01-26T16:10:28.811168Z"
        },
        "trusted": true,
        "id": "BT4slaoQP3jo"
      },
      "execution_count": null,
      "outputs": []
    },
    {
      "cell_type": "code",
      "source": [
        "df = pd.read_csv('/kaggle/input/playground-series-s4e1/train.csv')\n",
        "df.drop(['id', 'CustomerId', 'Surname'], inplace=True, axis=1)\n",
        "\n",
        "df.head()"
      ],
      "metadata": {
        "execution": {
          "iopub.status.busy": "2024-01-26T16:10:30.895057Z",
          "iopub.execute_input": "2024-01-26T16:10:30.895585Z",
          "iopub.status.idle": "2024-01-26T16:10:31.538033Z",
          "shell.execute_reply.started": "2024-01-26T16:10:30.895552Z",
          "shell.execute_reply": "2024-01-26T16:10:31.536769Z"
        },
        "trusted": true,
        "id": "fVrV4MLdP3jp",
        "outputId": "db21964f-4056-4823-d09e-2bdbb19c79ec"
      },
      "execution_count": null,
      "outputs": [
        {
          "execution_count": 7,
          "output_type": "execute_result",
          "data": {
            "text/plain": "   CreditScore Geography Gender   Age  Tenure    Balance  NumOfProducts  \\\n0          668    France   Male  33.0       3       0.00              2   \n1          627    France   Male  33.0       1       0.00              2   \n2          678    France   Male  40.0      10       0.00              2   \n3          581    France   Male  34.0       2  148882.54              1   \n4          716     Spain   Male  33.0       5       0.00              2   \n\n   HasCrCard  IsActiveMember  EstimatedSalary  Exited  \n0        1.0             0.0        181449.97       0  \n1        1.0             1.0         49503.50       0  \n2        1.0             0.0        184866.69       0  \n3        1.0             1.0         84560.88       0  \n4        1.0             1.0         15068.83       0  ",
            "text/html": "<div>\n<style scoped>\n    .dataframe tbody tr th:only-of-type {\n        vertical-align: middle;\n    }\n\n    .dataframe tbody tr th {\n        vertical-align: top;\n    }\n\n    .dataframe thead th {\n        text-align: right;\n    }\n</style>\n<table border=\"1\" class=\"dataframe\">\n  <thead>\n    <tr style=\"text-align: right;\">\n      <th></th>\n      <th>CreditScore</th>\n      <th>Geography</th>\n      <th>Gender</th>\n      <th>Age</th>\n      <th>Tenure</th>\n      <th>Balance</th>\n      <th>NumOfProducts</th>\n      <th>HasCrCard</th>\n      <th>IsActiveMember</th>\n      <th>EstimatedSalary</th>\n      <th>Exited</th>\n    </tr>\n  </thead>\n  <tbody>\n    <tr>\n      <th>0</th>\n      <td>668</td>\n      <td>France</td>\n      <td>Male</td>\n      <td>33.0</td>\n      <td>3</td>\n      <td>0.00</td>\n      <td>2</td>\n      <td>1.0</td>\n      <td>0.0</td>\n      <td>181449.97</td>\n      <td>0</td>\n    </tr>\n    <tr>\n      <th>1</th>\n      <td>627</td>\n      <td>France</td>\n      <td>Male</td>\n      <td>33.0</td>\n      <td>1</td>\n      <td>0.00</td>\n      <td>2</td>\n      <td>1.0</td>\n      <td>1.0</td>\n      <td>49503.50</td>\n      <td>0</td>\n    </tr>\n    <tr>\n      <th>2</th>\n      <td>678</td>\n      <td>France</td>\n      <td>Male</td>\n      <td>40.0</td>\n      <td>10</td>\n      <td>0.00</td>\n      <td>2</td>\n      <td>1.0</td>\n      <td>0.0</td>\n      <td>184866.69</td>\n      <td>0</td>\n    </tr>\n    <tr>\n      <th>3</th>\n      <td>581</td>\n      <td>France</td>\n      <td>Male</td>\n      <td>34.0</td>\n      <td>2</td>\n      <td>148882.54</td>\n      <td>1</td>\n      <td>1.0</td>\n      <td>1.0</td>\n      <td>84560.88</td>\n      <td>0</td>\n    </tr>\n    <tr>\n      <th>4</th>\n      <td>716</td>\n      <td>Spain</td>\n      <td>Male</td>\n      <td>33.0</td>\n      <td>5</td>\n      <td>0.00</td>\n      <td>2</td>\n      <td>1.0</td>\n      <td>1.0</td>\n      <td>15068.83</td>\n      <td>0</td>\n    </tr>\n  </tbody>\n</table>\n</div>"
          },
          "metadata": {}
        }
      ]
    },
    {
      "cell_type": "code",
      "source": [
        "df['Exited'].value_counts()"
      ],
      "metadata": {
        "execution": {
          "iopub.status.busy": "2024-01-26T16:10:34.18362Z",
          "iopub.execute_input": "2024-01-26T16:10:34.184044Z",
          "iopub.status.idle": "2024-01-26T16:10:34.19935Z",
          "shell.execute_reply.started": "2024-01-26T16:10:34.184012Z",
          "shell.execute_reply": "2024-01-26T16:10:34.198077Z"
        },
        "trusted": true,
        "id": "qkw0jVuAP3jq",
        "outputId": "a7734d89-d011-4b1b-d8c5-34eb25f415ed"
      },
      "execution_count": null,
      "outputs": [
        {
          "execution_count": 8,
          "output_type": "execute_result",
          "data": {
            "text/plain": "Exited\n0    130113\n1     34921\nName: count, dtype: int64"
          },
          "metadata": {}
        }
      ]
    },
    {
      "cell_type": "code",
      "source": [
        "df_geo = pd.get_dummies(df['Geography']).astype(int)\n",
        "\n",
        "df = pd.concat([df, df_geo.iloc[:, 0:2]], axis=1)\n",
        "df.drop('Geography', axis=1, inplace=True)"
      ],
      "metadata": {
        "execution": {
          "iopub.status.busy": "2024-01-26T16:10:36.241735Z",
          "iopub.execute_input": "2024-01-26T16:10:36.242279Z",
          "iopub.status.idle": "2024-01-26T16:10:36.312001Z",
          "shell.execute_reply.started": "2024-01-26T16:10:36.242237Z",
          "shell.execute_reply": "2024-01-26T16:10:36.310649Z"
        },
        "trusted": true,
        "id": "wh417evFP3jq"
      },
      "execution_count": null,
      "outputs": []
    },
    {
      "cell_type": "code",
      "source": [
        "df['Gender'] = df['Gender'].map({'Male':0, 'Female':1})\n",
        "\n",
        "df['Age'] = df['Age'].astype(int)\n",
        "df['HasCrCard'] = df['HasCrCard'].astype(int)\n",
        "df['IsActiveMember'] = df['IsActiveMember'].astype(int)\n",
        "\n",
        "df"
      ],
      "metadata": {
        "execution": {
          "iopub.status.busy": "2024-01-26T16:10:38.302646Z",
          "iopub.execute_input": "2024-01-26T16:10:38.303142Z",
          "iopub.status.idle": "2024-01-26T16:10:38.358946Z",
          "shell.execute_reply.started": "2024-01-26T16:10:38.303106Z",
          "shell.execute_reply": "2024-01-26T16:10:38.357587Z"
        },
        "trusted": true,
        "id": "yK-h0M7tP3jq",
        "outputId": "61eec4b3-aa28-48dd-fdf1-46454c4f720d"
      },
      "execution_count": null,
      "outputs": [
        {
          "execution_count": 10,
          "output_type": "execute_result",
          "data": {
            "text/plain": "        CreditScore  Gender  Age  Tenure    Balance  NumOfProducts  HasCrCard  \\\n0               668       0   33       3       0.00              2          1   \n1               627       0   33       1       0.00              2          1   \n2               678       0   40      10       0.00              2          1   \n3               581       0   34       2  148882.54              1          1   \n4               716       0   33       5       0.00              2          1   \n...             ...     ...  ...     ...        ...            ...        ...   \n165029          667       1   33       2       0.00              1          1   \n165030          792       0   35       3       0.00              1          0   \n165031          565       0   31       5       0.00              1          1   \n165032          554       1   30       7  161533.00              1          0   \n165033          850       0   31       1       0.00              1          1   \n\n        IsActiveMember  EstimatedSalary  Exited  France  Germany  \n0                    0        181449.97       0       1        0  \n1                    1         49503.50       0       1        0  \n2                    0        184866.69       0       1        0  \n3                    1         84560.88       0       1        0  \n4                    1         15068.83       0       0        0  \n...                ...              ...     ...     ...      ...  \n165029               1        131834.75       0       0        0  \n165030               0        131834.45       0       1        0  \n165031               1        127429.56       0       1        0  \n165032               1         71173.03       0       0        0  \n165033               0         61581.79       1       1        0  \n\n[165034 rows x 12 columns]",
            "text/html": "<div>\n<style scoped>\n    .dataframe tbody tr th:only-of-type {\n        vertical-align: middle;\n    }\n\n    .dataframe tbody tr th {\n        vertical-align: top;\n    }\n\n    .dataframe thead th {\n        text-align: right;\n    }\n</style>\n<table border=\"1\" class=\"dataframe\">\n  <thead>\n    <tr style=\"text-align: right;\">\n      <th></th>\n      <th>CreditScore</th>\n      <th>Gender</th>\n      <th>Age</th>\n      <th>Tenure</th>\n      <th>Balance</th>\n      <th>NumOfProducts</th>\n      <th>HasCrCard</th>\n      <th>IsActiveMember</th>\n      <th>EstimatedSalary</th>\n      <th>Exited</th>\n      <th>France</th>\n      <th>Germany</th>\n    </tr>\n  </thead>\n  <tbody>\n    <tr>\n      <th>0</th>\n      <td>668</td>\n      <td>0</td>\n      <td>33</td>\n      <td>3</td>\n      <td>0.00</td>\n      <td>2</td>\n      <td>1</td>\n      <td>0</td>\n      <td>181449.97</td>\n      <td>0</td>\n      <td>1</td>\n      <td>0</td>\n    </tr>\n    <tr>\n      <th>1</th>\n      <td>627</td>\n      <td>0</td>\n      <td>33</td>\n      <td>1</td>\n      <td>0.00</td>\n      <td>2</td>\n      <td>1</td>\n      <td>1</td>\n      <td>49503.50</td>\n      <td>0</td>\n      <td>1</td>\n      <td>0</td>\n    </tr>\n    <tr>\n      <th>2</th>\n      <td>678</td>\n      <td>0</td>\n      <td>40</td>\n      <td>10</td>\n      <td>0.00</td>\n      <td>2</td>\n      <td>1</td>\n      <td>0</td>\n      <td>184866.69</td>\n      <td>0</td>\n      <td>1</td>\n      <td>0</td>\n    </tr>\n    <tr>\n      <th>3</th>\n      <td>581</td>\n      <td>0</td>\n      <td>34</td>\n      <td>2</td>\n      <td>148882.54</td>\n      <td>1</td>\n      <td>1</td>\n      <td>1</td>\n      <td>84560.88</td>\n      <td>0</td>\n      <td>1</td>\n      <td>0</td>\n    </tr>\n    <tr>\n      <th>4</th>\n      <td>716</td>\n      <td>0</td>\n      <td>33</td>\n      <td>5</td>\n      <td>0.00</td>\n      <td>2</td>\n      <td>1</td>\n      <td>1</td>\n      <td>15068.83</td>\n      <td>0</td>\n      <td>0</td>\n      <td>0</td>\n    </tr>\n    <tr>\n      <th>...</th>\n      <td>...</td>\n      <td>...</td>\n      <td>...</td>\n      <td>...</td>\n      <td>...</td>\n      <td>...</td>\n      <td>...</td>\n      <td>...</td>\n      <td>...</td>\n      <td>...</td>\n      <td>...</td>\n      <td>...</td>\n    </tr>\n    <tr>\n      <th>165029</th>\n      <td>667</td>\n      <td>1</td>\n      <td>33</td>\n      <td>2</td>\n      <td>0.00</td>\n      <td>1</td>\n      <td>1</td>\n      <td>1</td>\n      <td>131834.75</td>\n      <td>0</td>\n      <td>0</td>\n      <td>0</td>\n    </tr>\n    <tr>\n      <th>165030</th>\n      <td>792</td>\n      <td>0</td>\n      <td>35</td>\n      <td>3</td>\n      <td>0.00</td>\n      <td>1</td>\n      <td>0</td>\n      <td>0</td>\n      <td>131834.45</td>\n      <td>0</td>\n      <td>1</td>\n      <td>0</td>\n    </tr>\n    <tr>\n      <th>165031</th>\n      <td>565</td>\n      <td>0</td>\n      <td>31</td>\n      <td>5</td>\n      <td>0.00</td>\n      <td>1</td>\n      <td>1</td>\n      <td>1</td>\n      <td>127429.56</td>\n      <td>0</td>\n      <td>1</td>\n      <td>0</td>\n    </tr>\n    <tr>\n      <th>165032</th>\n      <td>554</td>\n      <td>1</td>\n      <td>30</td>\n      <td>7</td>\n      <td>161533.00</td>\n      <td>1</td>\n      <td>0</td>\n      <td>1</td>\n      <td>71173.03</td>\n      <td>0</td>\n      <td>0</td>\n      <td>0</td>\n    </tr>\n    <tr>\n      <th>165033</th>\n      <td>850</td>\n      <td>0</td>\n      <td>31</td>\n      <td>1</td>\n      <td>0.00</td>\n      <td>1</td>\n      <td>1</td>\n      <td>0</td>\n      <td>61581.79</td>\n      <td>1</td>\n      <td>1</td>\n      <td>0</td>\n    </tr>\n  </tbody>\n</table>\n<p>165034 rows × 12 columns</p>\n</div>"
          },
          "metadata": {}
        }
      ]
    },
    {
      "cell_type": "code",
      "source": [
        "plt.hist(df['Age'])"
      ],
      "metadata": {
        "execution": {
          "iopub.status.busy": "2024-01-26T16:10:40.988152Z",
          "iopub.execute_input": "2024-01-26T16:10:40.988606Z",
          "iopub.status.idle": "2024-01-26T16:10:41.32292Z",
          "shell.execute_reply.started": "2024-01-26T16:10:40.988574Z",
          "shell.execute_reply": "2024-01-26T16:10:41.321972Z"
        },
        "trusted": true,
        "id": "2bBPJYMHP3jr",
        "outputId": "7c7fd398-69d4-46a8-e572-f51d3cbd3a2e"
      },
      "execution_count": null,
      "outputs": [
        {
          "execution_count": 11,
          "output_type": "execute_result",
          "data": {
            "text/plain": "(array([7.0930e+03, 3.6582e+04, 6.9108e+04, 3.0665e+04, 1.2109e+04,\n        6.6800e+03, 1.9750e+03, 7.3600e+02, 7.2000e+01, 1.4000e+01]),\n array([18. , 25.4, 32.8, 40.2, 47.6, 55. , 62.4, 69.8, 77.2, 84.6, 92. ]),\n <BarContainer object of 10 artists>)"
          },
          "metadata": {}
        },
        {
          "output_type": "display_data",
          "data": {
            "text/plain": "<Figure size 640x480 with 1 Axes>",
            "image/png": "[encoded data removed]"
          },
          "metadata": {}
        }
      ]
    },
    {
      "cell_type": "markdown",
      "source": [
        "PREPARING DATA"
      ],
      "metadata": {
        "id": "nYs5v4E6P3jr"
      }
    },
    {
      "cell_type": "code",
      "source": [
        "X = df.drop('Exited', axis=1)\n",
        "y = df['Exited']"
      ],
      "metadata": {
        "execution": {
          "iopub.status.busy": "2024-01-26T16:10:45.044596Z",
          "iopub.execute_input": "2024-01-26T16:10:45.045576Z",
          "iopub.status.idle": "2024-01-26T16:10:45.065253Z",
          "shell.execute_reply.started": "2024-01-26T16:10:45.045525Z",
          "shell.execute_reply": "2024-01-26T16:10:45.06388Z"
        },
        "trusted": true,
        "id": "lGRBd_ngP3js"
      },
      "execution_count": null,
      "outputs": []
    },
    {
      "cell_type": "code",
      "source": [
        "from sklearn.model_selection import train_test_split\n",
        "\n",
        "X_train, X_test, y_train, y_test = train_test_split(X, y,\n",
        "                                                    test_size=0.1,\n",
        "                                                    random_state=42)\n",
        "\n",
        "X_train.head()"
      ],
      "metadata": {
        "execution": {
          "iopub.status.busy": "2024-01-26T16:10:47.56392Z",
          "iopub.execute_input": "2024-01-26T16:10:47.564475Z",
          "iopub.status.idle": "2024-01-26T16:10:48.413702Z",
          "shell.execute_reply.started": "2024-01-26T16:10:47.564436Z",
          "shell.execute_reply": "2024-01-26T16:10:48.412253Z"
        },
        "trusted": true,
        "id": "I1Rn5s4sP3jt",
        "outputId": "6736bafa-fd0d-4071-fbb7-b76a59abcf96"
      },
      "execution_count": null,
      "outputs": [
        {
          "execution_count": 13,
          "output_type": "execute_result",
          "data": {
            "text/plain": "        CreditScore  Gender  Age  Tenure    Balance  NumOfProducts  HasCrCard  \\\n5127            609       0   34       2       0.00              1          1   \n162903          736       0   35       8       0.00              1          0   \n52185           746       1   38       4  166883.07              1          0   \n39249           567       1   40       5       0.00              2          1   \n115410          631       1   37       6       0.00              3          1   \n\n        IsActiveMember  EstimatedSalary  France  Germany  \n5127                 1         16250.61       1        0  \n162903               1         79082.62       0        0  \n52185                1        194563.65       1        0  \n39249                0        126537.07       0        0  \n115410               1        125877.22       0        0  ",
            "text/html": "<div>\n<style scoped>\n    .dataframe tbody tr th:only-of-type {\n        vertical-align: middle;\n    }\n\n    .dataframe tbody tr th {\n        vertical-align: top;\n    }\n\n    .dataframe thead th {\n        text-align: right;\n    }\n</style>\n<table border=\"1\" class=\"dataframe\">\n  <thead>\n    <tr style=\"text-align: right;\">\n      <th></th>\n      <th>CreditScore</th>\n      <th>Gender</th>\n      <th>Age</th>\n      <th>Tenure</th>\n      <th>Balance</th>\n      <th>NumOfProducts</th>\n      <th>HasCrCard</th>\n      <th>IsActiveMember</th>\n      <th>EstimatedSalary</th>\n      <th>France</th>\n      <th>Germany</th>\n    </tr>\n  </thead>\n  <tbody>\n    <tr>\n      <th>5127</th>\n      <td>609</td>\n      <td>0</td>\n      <td>34</td>\n      <td>2</td>\n      <td>0.00</td>\n      <td>1</td>\n      <td>1</td>\n      <td>1</td>\n      <td>16250.61</td>\n      <td>1</td>\n      <td>0</td>\n    </tr>\n    <tr>\n      <th>162903</th>\n      <td>736</td>\n      <td>0</td>\n      <td>35</td>\n      <td>8</td>\n      <td>0.00</td>\n      <td>1</td>\n      <td>0</td>\n      <td>1</td>\n      <td>79082.62</td>\n      <td>0</td>\n      <td>0</td>\n    </tr>\n    <tr>\n      <th>52185</th>\n      <td>746</td>\n      <td>1</td>\n      <td>38</td>\n      <td>4</td>\n      <td>166883.07</td>\n      <td>1</td>\n      <td>0</td>\n      <td>1</td>\n      <td>194563.65</td>\n      <td>1</td>\n      <td>0</td>\n    </tr>\n    <tr>\n      <th>39249</th>\n      <td>567</td>\n      <td>1</td>\n      <td>40</td>\n      <td>5</td>\n      <td>0.00</td>\n      <td>2</td>\n      <td>1</td>\n      <td>0</td>\n      <td>126537.07</td>\n      <td>0</td>\n      <td>0</td>\n    </tr>\n    <tr>\n      <th>115410</th>\n      <td>631</td>\n      <td>1</td>\n      <td>37</td>\n      <td>6</td>\n      <td>0.00</td>\n      <td>3</td>\n      <td>1</td>\n      <td>1</td>\n      <td>125877.22</td>\n      <td>0</td>\n      <td>0</td>\n    </tr>\n  </tbody>\n</table>\n</div>"
          },
          "metadata": {}
        }
      ]
    },
    {
      "cell_type": "code",
      "source": [
        "TRAINING OF MODEL"
      ],
      "metadata": {
        "id": "uQZlztrgP3ju"
      },
      "execution_count": null,
      "outputs": []
    },
    {
      "cell_type": "markdown",
      "source": [],
      "metadata": {
        "id": "kP0V34CHP3ju"
      }
    },
    {
      "cell_type": "code",
      "source": [
        "from sklearn.ensemble import RandomForestClassifier\n",
        "from lightgbm import LGBMClassifier\n",
        "from sklearn.linear_model import LogisticRegression\n",
        "from sklearn.preprocessing import StandardScaler"
      ],
      "metadata": {
        "execution": {
          "iopub.status.busy": "2024-01-26T16:10:52.229555Z",
          "iopub.execute_input": "2024-01-26T16:10:52.23005Z",
          "iopub.status.idle": "2024-01-26T16:10:54.057879Z",
          "shell.execute_reply.started": "2024-01-26T16:10:52.230012Z",
          "shell.execute_reply": "2024-01-26T16:10:54.056848Z"
        },
        "trusted": true,
        "id": "gKUN-gJVP3ju"
      },
      "execution_count": null,
      "outputs": []
    },
    {
      "cell_type": "code",
      "source": [
        "clf = LGBMClassifier()\n",
        "\n",
        "scaler = StandardScaler()\n",
        "X_train_scaled = scaler.fit_transform(X_train)\n",
        "X_test_scaled = scaler.transform(X_test)\n",
        "\n",
        "clf.fit(X_train_scaled, y_train)"
      ],
      "metadata": {
        "execution": {
          "iopub.status.busy": "2024-01-26T16:10:55.706817Z",
          "iopub.execute_input": "2024-01-26T16:10:55.707335Z",
          "iopub.status.idle": "2024-01-26T16:10:58.957891Z",
          "shell.execute_reply.started": "2024-01-26T16:10:55.707292Z",
          "shell.execute_reply": "2024-01-26T16:10:58.956529Z"
        },
        "trusted": true,
        "id": "OmMUPK-3P3jv",
        "outputId": "1a41194a-acb7-4645-ce0d-56fa49105405"
      },
      "execution_count": null,
      "outputs": [
        {
          "execution_count": 15,
          "output_type": "execute_result",
          "data": {
            "text/plain": "LGBMClassifier()",
            "text/html": "<style>#sk-container-id-1 {color: black;background-color: white;}#sk-container-id-1 pre{padding: 0;}#sk-container-id-1 div.sk-toggleable {background-color: white;}#sk-container-id-1 label.sk-toggleable__label {cursor: pointer;display: block;width: 100%;margin-bottom: 0;padding: 0.3em;box-sizing: border-box;text-align: center;}#sk-container-id-1 label.sk-toggleable__label-arrow:before {content: \"▸\";float: left;margin-right: 0.25em;color: #696969;}#sk-container-id-1 label.sk-toggleable__label-arrow:hover:before {color: black;}#sk-container-id-1 div.sk-estimator:hover label.sk-toggleable__label-arrow:before {color: black;}#sk-container-id-1 div.sk-toggleable__content {max-height: 0;max-width: 0;overflow: hidden;text-align: left;background-color: #f0f8ff;}#sk-container-id-1 div.sk-toggleable__content pre {margin: 0.2em;color: black;border-radius: 0.25em;background-color: #f0f8ff;}#sk-container-id-1 input.sk-toggleable__control:checked~div.sk-toggleable__content {max-height: 200px;max-width: 100%;overflow: auto;}#sk-container-id-1 input.sk-toggleable__control:checked~label.sk-toggleable__label-arrow:before {content: \"▾\";}#sk-container-id-1 div.sk-estimator input.sk-toggleable__control:checked~label.sk-toggleable__label {background-color: #d4ebff;}#sk-container-id-1 div.sk-label input.sk-toggleable__control:checked~label.sk-toggleable__label {background-color: #d4ebff;}#sk-container-id-1 input.sk-hidden--visually {border: 0;clip: rect(1px 1px 1px 1px);clip: rect(1px, 1px, 1px, 1px);height: 1px;margin: -1px;overflow: hidden;padding: 0;position: absolute;width: 1px;}#sk-container-id-1 div.sk-estimator {font-family: monospace;background-color: #f0f8ff;border: 1px dotted black;border-radius: 0.25em;box-sizing: border-box;margin-bottom: 0.5em;}#sk-container-id-1 div.sk-estimator:hover {background-color: #d4ebff;}#sk-container-id-1 div.sk-parallel-item::after {content: \"\";width: 100%;border-bottom: 1px solid gray;flex-grow: 1;}#sk-container-id-1 div.sk-label:hover label.sk-toggleable__label {background-color: #d4ebff;}#sk-container-id-1 div.sk-serial::before {content: \"\";position: absolute;border-left: 1px solid gray;box-sizing: border-box;top: 0;bottom: 0;left: 50%;z-index: 0;}#sk-container-id-1 div.sk-serial {display: flex;flex-direction: column;align-items: center;background-color: white;padding-right: 0.2em;padding-left: 0.2em;position: relative;}#sk-container-id-1 div.sk-item {position: relative;z-index: 1;}#sk-container-id-1 div.sk-parallel {display: flex;align-items: stretch;justify-content: center;background-color: white;position: relative;}#sk-container-id-1 div.sk-item::before, #sk-container-id-1 div.sk-parallel-item::before {content: \"\";position: absolute;border-left: 1px solid gray;box-sizing: border-box;top: 0;bottom: 0;left: 50%;z-index: -1;}#sk-container-id-1 div.sk-parallel-item {display: flex;flex-direction: column;z-index: 1;position: relative;background-color: white;}#sk-container-id-1 div.sk-parallel-item:first-child::after {align-self: flex-end;width: 50%;}#sk-container-id-1 div.sk-parallel-item:last-child::after {align-self: flex-start;width: 50%;}#sk-container-id-1 div.sk-parallel-item:only-child::after {width: 0;}#sk-container-id-1 div.sk-dashed-wrapped {border: 1px dashed gray;margin: 0 0.4em 0.5em 0.4em;box-sizing: border-box;padding-bottom: 0.4em;background-color: white;}#sk-container-id-1 div.sk-label label {font-family: monospace;font-weight: bold;display: inline-block;line-height: 1.2em;}#sk-container-id-1 div.sk-label-container {text-align: center;}#sk-container-id-1 div.sk-container {/* jupyter's `normalize.less` sets `[hidden] { display: none; }` but bootstrap.min.css set `[hidden] { display: none !important; }` so we also need the `!important` here to be able to override the default hidden behavior on the sphinx rendered scikit-learn.org. See: https://github.com/scikit-learn/scikit-learn/issues/21755 */display: inline-block !important;position: relative;}#sk-container-id-1 div.sk-text-repr-fallback {display: none;}</style><div id=\"sk-container-id-1\" class=\"sk-top-container\"><div class=\"sk-text-repr-fallback\"><pre>LGBMClassifier()</pre><b>In a Jupyter environment, please rerun this cell to show the HTML representation or trust the notebook. <br />On GitHub, the HTML representation is unable to render, please try loading this page with nbviewer.org.</b></div><div class=\"sk-container\" hidden><div class=\"sk-item\"><div class=\"sk-estimator sk-toggleable\"><input class=\"sk-toggleable__control sk-hidden--visually\" id=\"sk-estimator-id-1\" type=\"checkbox\" checked><label for=\"sk-estimator-id-1\" class=\"sk-toggleable__label sk-toggleable__label-arrow\">LGBMClassifier</label><div class=\"sk-toggleable__content\"><pre>LGBMClassifier()</pre></div></div></div></div></div>"
          },
          "metadata": {}
        }
      ]
    },
    {
      "cell_type": "code",
      "source": [
        "from sklearn.metrics import roc_auc_score\n",
        "\n",
        "y_train_pred = clf.predict_proba(X_train_scaled)[:, 1]\n",
        "y_test_pred = clf.predict_proba(X_test_scaled)[:, 1]\n",
        "\n",
        "train_score = roc_auc_score(y_train, y_train_pred)\n",
        "test_score = roc_auc_score(y_test, y_test_pred)\n",
        "\n",
        "print('Training score', train_score)\n",
        "print('Test score', test_score)"
      ],
      "metadata": {
        "execution": {
          "iopub.status.busy": "2024-01-26T16:11:01.383867Z",
          "iopub.execute_input": "2024-01-26T16:11:01.384336Z",
          "iopub.status.idle": "2024-01-26T16:11:01.825051Z",
          "shell.execute_reply.started": "2024-01-26T16:11:01.3843Z",
          "shell.execute_reply": "2024-01-26T16:11:01.823427Z"
        },
        "trusted": true,
        "id": "E4BVwVCYP3jv",
        "outputId": "98aba2ad-fbeb-446e-fbd1-0535fc736a57"
      },
      "execution_count": null,
      "outputs": [
        {
          "name": "stdout",
          "text": "Training score 0.8965659669717003\nTest score 0.8916663484142543\n",
          "output_type": "stream"
        }
      ]
    },
    {
      "cell_type": "code",
      "source": [
        "TUNING"
      ],
      "metadata": {
        "id": "8sK9m-ywP3jv"
      },
      "execution_count": null,
      "outputs": []
    },
    {
      "cell_type": "code",
      "source": [
        "import optuna\n",
        "from sklearn.model_selection import cross_validate\n",
        "\n",
        "def objective(trial):\n",
        "    max_depth = trial.suggest_int('max_depth', 5, 20)\n",
        "    n_estimators = trial.suggest_int('n_estimators', 50, 500)\n",
        "    learning_rate_log = trial.suggest_float('learning_rate_log', -3, -1)\n",
        "\n",
        "    clf = LGBMClassifier(class_weight='balanced',\n",
        "                         max_depth = max_depth,\n",
        "                         n_estimators = n_estimators,\n",
        "                         learning_rate = 10**learning_rate_log)\n",
        "\n",
        "    scaler = StandardScaler()\n",
        "    X_std = scaler.fit_transform(X)\n",
        "\n",
        "    cv_results = cross_validate(clf, X_std, y, cv=5, scoring='roc_auc')\n",
        "\n",
        "    validation_score = np.mean(cv_results['test_score'])\n",
        "\n",
        "    return validation_score"
      ],
      "metadata": {
        "execution": {
          "iopub.status.busy": "2024-01-26T16:11:03.843766Z",
          "iopub.execute_input": "2024-01-26T16:11:03.844188Z",
          "iopub.status.idle": "2024-01-26T16:11:05.642086Z",
          "shell.execute_reply.started": "2024-01-26T16:11:03.844156Z",
          "shell.execute_reply": "2024-01-26T16:11:05.640672Z"
        },
        "trusted": true,
        "id": "Rac1-3VAP3jw"
      },
      "execution_count": null,
      "outputs": []
    },
    {
      "cell_type": "code",
      "source": [
        "best_params = {'max_depth': 5, 'n_estimators': 311, 'learning_rate_log': -1.3626471089871763}\n",
        "\n",
        "print(best_params)"
      ],
      "metadata": {
        "execution": {
          "iopub.status.busy": "2024-01-26T16:11:10.341063Z",
          "iopub.execute_input": "2024-01-26T16:11:10.341544Z",
          "iopub.status.idle": "2024-01-26T16:11:10.348572Z",
          "shell.execute_reply.started": "2024-01-26T16:11:10.34151Z",
          "shell.execute_reply": "2024-01-26T16:11:10.347197Z"
        },
        "trusted": true,
        "id": "jYggbgFzP3jw",
        "outputId": "e5c05623-053e-445d-cc08-7ae795808fe5"
      },
      "execution_count": null,
      "outputs": [
        {
          "name": "stdout",
          "text": "{'max_depth': 5, 'n_estimators': 311, 'learning_rate_log': -1.3626471089871763}\n",
          "output_type": "stream"
        }
      ]
    },
    {
      "cell_type": "code",
      "source": [
        "PREDICTIONS"
      ],
      "metadata": {
        "id": "XaH9sqFHP3jw"
      },
      "execution_count": null,
      "outputs": []
    },
    {
      "cell_type": "code",
      "source": [
        "def apply_preprocessing(df2):\n",
        "    df = df2.copy(deep=True)\n",
        "\n",
        "    # drop useless features\n",
        "    df.drop(['id', 'CustomerId', 'Surname'], inplace=True, axis=1)\n",
        "\n",
        "    # one-hot encoding\n",
        "    df_geo = pd.get_dummies(df['Geography']).astype(int)\n",
        "    df = pd.concat([df, df_geo.iloc[:, 0:2]], axis=1)\n",
        "    df.drop('Geography', axis=1, inplace=True)\n",
        "\n",
        "    # map male and female\n",
        "    df['Gender'] = df['Gender'].map({'Male':0, 'Female':1})\n",
        "\n",
        "    # convert to integer\n",
        "    df['Age'] = df['Age'].astype(int)\n",
        "    df['HasCrCard'] = df['HasCrCard'].astype(int)\n",
        "    df['IsActiveMember'] = df['IsActiveMember'].astype(int)\n",
        "\n",
        "    cnames = ['CreditScore', 'Gender', 'Age', 'Tenure', 'Balance', 'NumOfProducts',\n",
        "       'HasCrCard', 'IsActiveMember', 'EstimatedSalary', 'France',\n",
        "       'Germany']\n",
        "\n",
        "    df = df.loc[:, cnames]\n",
        "\n",
        "    return df"
      ],
      "metadata": {
        "execution": {
          "iopub.status.busy": "2024-01-26T16:11:13.651455Z",
          "iopub.execute_input": "2024-01-26T16:11:13.651861Z",
          "iopub.status.idle": "2024-01-26T16:11:13.665162Z",
          "shell.execute_reply.started": "2024-01-26T16:11:13.65183Z",
          "shell.execute_reply": "2024-01-26T16:11:13.663923Z"
        },
        "trusted": true,
        "id": "Yke0MlD8P3jx"
      },
      "execution_count": null,
      "outputs": []
    },
    {
      "cell_type": "code",
      "source": [
        "TRAIN THE MODEL"
      ],
      "metadata": {
        "id": "JRTehHOUP3jx"
      },
      "execution_count": null,
      "outputs": []
    },
    {
      "cell_type": "code",
      "source": [
        "\n",
        "clf = LGBMClassifier(class_weight='balanced',\n",
        "                     max_depth = best_params['max_depth'],\n",
        "                     n_estimators = best_params['n_estimators'],\n",
        "                     learning_rate = 10**best_params['learning_rate_log'])\n",
        "\n",
        "scaler = StandardScaler()\n",
        "X_std = scaler.fit_transform(X)\n",
        "clf.fit(X_std, y)\n"
      ],
      "metadata": {
        "execution": {
          "iopub.status.busy": "2024-01-26T16:11:16.483903Z",
          "iopub.execute_input": "2024-01-26T16:11:16.484306Z",
          "iopub.status.idle": "2024-01-26T16:11:21.6565Z",
          "shell.execute_reply.started": "2024-01-26T16:11:16.484274Z",
          "shell.execute_reply": "2024-01-26T16:11:21.655025Z"
        },
        "trusted": true,
        "id": "h2SdaQWoP3jx",
        "outputId": "ac4851cf-ac54-4323-9b5c-a8bb18b09dac"
      },
      "execution_count": null,
      "outputs": [
        {
          "execution_count": 22,
          "output_type": "execute_result",
          "data": {
            "text/plain": "LGBMClassifier(class_weight='balanced', learning_rate=0.04338632758271591,\n               max_depth=5, n_estimators=311)",
            "text/html": "<style>#sk-container-id-2 {color: black;background-color: white;}#sk-container-id-2 pre{padding: 0;}#sk-container-id-2 div.sk-toggleable {background-color: white;}#sk-container-id-2 label.sk-toggleable__label {cursor: pointer;display: block;width: 100%;margin-bottom: 0;padding: 0.3em;box-sizing: border-box;text-align: center;}#sk-container-id-2 label.sk-toggleable__label-arrow:before {content: \"▸\";float: left;margin-right: 0.25em;color: #696969;}#sk-container-id-2 label.sk-toggleable__label-arrow:hover:before {color: black;}#sk-container-id-2 div.sk-estimator:hover label.sk-toggleable__label-arrow:before {color: black;}#sk-container-id-2 div.sk-toggleable__content {max-height: 0;max-width: 0;overflow: hidden;text-align: left;background-color: #f0f8ff;}#sk-container-id-2 div.sk-toggleable__content pre {margin: 0.2em;color: black;border-radius: 0.25em;background-color: #f0f8ff;}#sk-container-id-2 input.sk-toggleable__control:checked~div.sk-toggleable__content {max-height: 200px;max-width: 100%;overflow: auto;}#sk-container-id-2 input.sk-toggleable__control:checked~label.sk-toggleable__label-arrow:before {content: \"▾\";}#sk-container-id-2 div.sk-estimator input.sk-toggleable__control:checked~label.sk-toggleable__label {background-color: #d4ebff;}#sk-container-id-2 div.sk-label input.sk-toggleable__control:checked~label.sk-toggleable__label {background-color: #d4ebff;}#sk-container-id-2 input.sk-hidden--visually {border: 0;clip: rect(1px 1px 1px 1px);clip: rect(1px, 1px, 1px, 1px);height: 1px;margin: -1px;overflow: hidden;padding: 0;position: absolute;width: 1px;}#sk-container-id-2 div.sk-estimator {font-family: monospace;background-color: #f0f8ff;border: 1px dotted black;border-radius: 0.25em;box-sizing: border-box;margin-bottom: 0.5em;}#sk-container-id-2 div.sk-estimator:hover {background-color: #d4ebff;}#sk-container-id-2 div.sk-parallel-item::after {content: \"\";width: 100%;border-bottom: 1px solid gray;flex-grow: 1;}#sk-container-id-2 div.sk-label:hover label.sk-toggleable__label {background-color: #d4ebff;}#sk-container-id-2 div.sk-serial::before {content: \"\";position: absolute;border-left: 1px solid gray;box-sizing: border-box;top: 0;bottom: 0;left: 50%;z-index: 0;}#sk-container-id-2 div.sk-serial {display: flex;flex-direction: column;align-items: center;background-color: white;padding-right: 0.2em;padding-left: 0.2em;position: relative;}#sk-container-id-2 div.sk-item {position: relative;z-index: 1;}#sk-container-id-2 div.sk-parallel {display: flex;align-items: stretch;justify-content: center;background-color: white;position: relative;}#sk-container-id-2 div.sk-item::before, #sk-container-id-2 div.sk-parallel-item::before {content: \"\";position: absolute;border-left: 1px solid gray;box-sizing: border-box;top: 0;bottom: 0;left: 50%;z-index: -1;}#sk-container-id-2 div.sk-parallel-item {display: flex;flex-direction: column;z-index: 1;position: relative;background-color: white;}#sk-container-id-2 div.sk-parallel-item:first-child::after {align-self: flex-end;width: 50%;}#sk-container-id-2 div.sk-parallel-item:last-child::after {align-self: flex-start;width: 50%;}#sk-container-id-2 div.sk-parallel-item:only-child::after {width: 0;}#sk-container-id-2 div.sk-dashed-wrapped {border: 1px dashed gray;margin: 0 0.4em 0.5em 0.4em;box-sizing: border-box;padding-bottom: 0.4em;background-color: white;}#sk-container-id-2 div.sk-label label {font-family: monospace;font-weight: bold;display: inline-block;line-height: 1.2em;}#sk-container-id-2 div.sk-label-container {text-align: center;}#sk-container-id-2 div.sk-container {/* jupyter's `normalize.less` sets `[hidden] { display: none; }` but bootstrap.min.css set `[hidden] { display: none !important; }` so we also need the `!important` here to be able to override the default hidden behavior on the sphinx rendered scikit-learn.org. See: https://github.com/scikit-learn/scikit-learn/issues/21755 */display: inline-block !important;position: relative;}#sk-container-id-2 div.sk-text-repr-fallback {display: none;}</style><div id=\"sk-container-id-2\" class=\"sk-top-container\"><div class=\"sk-text-repr-fallback\"><pre>LGBMClassifier(class_weight=&#x27;balanced&#x27;, learning_rate=0.04338632758271591,\n               max_depth=5, n_estimators=311)</pre><b>In a Jupyter environment, please rerun this cell to show the HTML representation or trust the notebook. <br />On GitHub, the HTML representation is unable to render, please try loading this page with nbviewer.org.</b></div><div class=\"sk-container\" hidden><div class=\"sk-item\"><div class=\"sk-estimator sk-toggleable\"><input class=\"sk-toggleable__control sk-hidden--visually\" id=\"sk-estimator-id-2\" type=\"checkbox\" checked><label for=\"sk-estimator-id-2\" class=\"sk-toggleable__label sk-toggleable__label-arrow\">LGBMClassifier</label><div class=\"sk-toggleable__content\"><pre>LGBMClassifier(class_weight=&#x27;balanced&#x27;, learning_rate=0.04338632758271591,\n               max_depth=5, n_estimators=311)</pre></div></div></div></div></div>"
          },
          "metadata": {}
        }
      ]
    },
    {
      "cell_type": "code",
      "source": [
        "TEST THE DATA"
      ],
      "metadata": {
        "id": "lCTfqJtmP3jx"
      },
      "execution_count": null,
      "outputs": []
    },
    {
      "cell_type": "code",
      "source": [
        "df_test = pd.read_csv('/kaggle/input/playground-series-s4e1/test.csv')\n",
        "\n",
        "X_test = apply_preprocessing(df_test)\n",
        "\n",
        "X_test = X_test.loc[:, X_train.columns]\n",
        "X_test = scaler.transform(X_test)"
      ],
      "metadata": {
        "execution": {
          "iopub.status.busy": "2024-01-26T16:11:49.683404Z",
          "iopub.execute_input": "2024-01-26T16:11:49.683935Z",
          "iopub.status.idle": "2024-01-26T16:11:50.071219Z",
          "shell.execute_reply.started": "2024-01-26T16:11:49.683895Z",
          "shell.execute_reply": "2024-01-26T16:11:50.069955Z"
        },
        "trusted": true,
        "id": "W5jL228IP3jx"
      },
      "execution_count": null,
      "outputs": []
    },
    {
      "cell_type": "code",
      "source": [
        "y_test_pred = clf.predict_proba(X_test)[:, 1]\n",
        "\n",
        "y_test_pred"
      ],
      "metadata": {
        "execution": {
          "iopub.status.busy": "2024-01-26T16:11:59.568802Z",
          "iopub.execute_input": "2024-01-26T16:11:59.569266Z",
          "iopub.status.idle": "2024-01-26T16:12:00.30364Z",
          "shell.execute_reply.started": "2024-01-26T16:11:59.569231Z",
          "shell.execute_reply": "2024-01-26T16:12:00.302298Z"
        },
        "trusted": true,
        "id": "cnLRa4qXP3jx",
        "outputId": "ad58854d-7cee-4b33-ee06-878d8f4f25b5"
      },
      "execution_count": null,
      "outputs": [
        {
          "execution_count": 24,
          "output_type": "execute_result",
          "data": {
            "text/plain": "array([0.11737585, 0.942164  , 0.08111905, ..., 0.06779818, 0.39814029,\n       0.44793561])"
          },
          "metadata": {}
        }
      ]
    },
    {
      "cell_type": "code",
      "source": [
        "df_test['Exited'] = y_test_pred\n",
        "\n",
        "df_results = df_test[['id', 'Exited']]\n",
        "df_results.to_csv('submission.csv', index=False)\n",
        "\n",
        "df_results"
      ],
      "metadata": {
        "execution": {
          "iopub.status.busy": "2024-01-26T16:12:15.151656Z",
          "iopub.execute_input": "2024-01-26T16:12:15.15211Z",
          "iopub.status.idle": "2024-01-26T16:12:15.664001Z",
          "shell.execute_reply.started": "2024-01-26T16:12:15.152075Z",
          "shell.execute_reply": "2024-01-26T16:12:15.662529Z"
        },
        "trusted": true,
        "id": "k1HJKMpjP3jy",
        "outputId": "a3ce68e7-0a31-49ab-e33e-3c2f3b9b2923"
      },
      "execution_count": null,
      "outputs": [
        {
          "execution_count": 25,
          "output_type": "execute_result",
          "data": {
            "text/plain": "            id    Exited\n0       165034  0.117376\n1       165035  0.942164\n2       165036  0.081119\n3       165037  0.525132\n4       165038  0.661479\n...        ...       ...\n110018  275052  0.133590\n110019  275053  0.309338\n110020  275054  0.067798\n110021  275055  0.398140\n110022  275056  0.447936\n\n[110023 rows x 2 columns]",
            "text/html": "<div>\n<style scoped>\n    .dataframe tbody tr th:only-of-type {\n        vertical-align: middle;\n    }\n\n    .dataframe tbody tr th {\n        vertical-align: top;\n    }\n\n    .dataframe thead th {\n        text-align: right;\n    }\n</style>\n<table border=\"1\" class=\"dataframe\">\n  <thead>\n    <tr style=\"text-align: right;\">\n      <th></th>\n      <th>id</th>\n      <th>Exited</th>\n    </tr>\n  </thead>\n  <tbody>\n    <tr>\n      <th>0</th>\n      <td>165034</td>\n      <td>0.117376</td>\n    </tr>\n    <tr>\n      <th>1</th>\n      <td>165035</td>\n      <td>0.942164</td>\n    </tr>\n    <tr>\n      <th>2</th>\n      <td>165036</td>\n      <td>0.081119</td>\n    </tr>\n    <tr>\n      <th>3</th>\n      <td>165037</td>\n      <td>0.525132</td>\n    </tr>\n    <tr>\n      <th>4</th>\n      <td>165038</td>\n      <td>0.661479</td>\n    </tr>\n    <tr>\n      <th>...</th>\n      <td>...</td>\n      <td>...</td>\n    </tr>\n    <tr>\n      <th>110018</th>\n      <td>275052</td>\n      <td>0.133590</td>\n    </tr>\n    <tr>\n      <th>110019</th>\n      <td>275053</td>\n      <td>0.309338</td>\n    </tr>\n    <tr>\n      <th>110020</th>\n      <td>275054</td>\n      <td>0.067798</td>\n    </tr>\n    <tr>\n      <th>110021</th>\n      <td>275055</td>\n      <td>0.398140</td>\n    </tr>\n    <tr>\n      <th>110022</th>\n      <td>275056</td>\n      <td>0.447936</td>\n    </tr>\n  </tbody>\n</table>\n<p>110023 rows × 2 columns</p>\n</div>"
          },
          "metadata": {}
        }
      ]
    },
    {
      "cell_type": "code",
      "source": [
        "df_results['Exited'].mean()"
      ],
      "metadata": {
        "execution": {
          "iopub.status.busy": "2024-01-26T16:12:26.321898Z",
          "iopub.execute_input": "2024-01-26T16:12:26.322341Z",
          "iopub.status.idle": "2024-01-26T16:12:26.333128Z",
          "shell.execute_reply.started": "2024-01-26T16:12:26.322308Z",
          "shell.execute_reply": "2024-01-26T16:12:26.331801Z"
        },
        "trusted": true,
        "id": "y4Pa9D-GP3jy",
        "outputId": "c24edbb9-d70d-4d53-e2ff-1ce0b00b2b82"
      },
      "execution_count": null,
      "outputs": [
        {
          "execution_count": 26,
          "output_type": "execute_result",
          "data": {
            "text/plain": "0.36507048702865386"
          },
          "metadata": {}
        }
      ]
    },
    {
      "cell_type": "markdown",
      "source": [],
      "metadata": {
        "id": "78ZLUAP5P3jy"
      }
    }
  ]
}